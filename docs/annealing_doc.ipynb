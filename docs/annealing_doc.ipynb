{
 "cells": [
  {
   "cell_type": "markdown",
   "id": "c7518576",
   "metadata": {},
   "source": [
    "## Simulated Annealing Algorithm Overview"
   ]
  },
  {
   "cell_type": "markdown",
   "id": "83a5fc8d",
   "metadata": {},
   "source": [
    "The simulated annealing algorithm is used as a global optimizer for minimizing a given $f(\\vec{x})$ **cost function**, which takes an input $\\vec{x} \\in \\mathbb{R}^n$ vector in $n$ dimensions and outputs a scalar, to be optimized.\n",
    "\n",
    "The algorithm is performed in a given $niter$ number of iterations $k = 0, 1, ..., niter-1$. In each step, a new candidate input vector $\\vec{x}_{new}$ is selected in the search space by using a visiting function $visit(\\vec{x}): \\vec{x}\\in\\mathbb{R}^n \\rightarrow \\vec{x}_{new}\\in\\mathbb{R}^n$. The input vector yielded by $visit(\\vec{x})$ is accepted or not, based on a probability function $P(\\vec{x}_{new}, \\vec{x}$).\n",
    "\n",
    "The implementation in _annealing.py_ uses a traditional Boltzmann probability in which:\n",
    "* if $f(\\vec{x}_{new}) < f(\\vec{x})$, the new vector is always accepted.\n",
    "* if $f(\\vec{x}_{new}) > f(\\vec{x})$, the new vector is accepted if $\\exp\\left(-\\frac{f(\\vec{x}_{new})-f(\\vec{x})}{T}\\right) \\geq random(0,1)$, where $random(0,1)$ is a value between 0 and 1\n",
    "\n",
    "The condition may be therefore expressed as:\n",
    "$$P_T = \\min\\left\\{1, \\exp\\left(-\\frac{f(\\vec{x}_{new})-f(\\vec{x})}{T}\\right) \\right\\} \\geq random(0,1)$$\n",
    "\n",
    "The parameter $T$ is an artificial temperature, in the same units as the cost function. At the begging of the calculation, $T$ is high (of the order or higher than typical $f(\\vec{x})$ values), and there is high probability of accepting $x_{new}$ values for which $f(\\vec{x}_{new}) > f(\\vec{x})$ (\"up\" jumps). $T$ then decreases as the calcualtion progresses such that \"up\" jumps became increasingly less probable.\n",
    "\n",
    "As a result, the algorithm tents to 'search' a higher domain in the beggaring of the calculation and converge to the global minimum by the end."
   ]
  },
  {
   "cell_type": "markdown",
   "id": "cf0d76bb",
   "metadata": {},
   "source": [
    "## Pseudocode"
   ]
  },
  {
   "cell_type": "markdown",
   "id": "87ea3f8d",
   "metadata": {},
   "source": [
    " A function ```f(x)``` is minimized with respect to ```x```, picked, from a ```domain```.\n",
    "\n",
    " In ```niter``` iterations, labeled by ```k```, the temperature ```T``` decreases in a profile given by ```T(K)``` and in each one a new input value ```x_new``` is chosen in relation to a current ```x``` by the function ```visit(x, T)```. The acceptance of the new input is based on a ```P(x, x_new, T)``` function.\n",
    "  \n",
    " ```random(domain)``` is a random ```x``` from ```domain``` and ```random(a,b)``` is a random number chosen between ```a``` and ```b```. ```min(a,b)``` is the smaller among the two inputs.\n",
    "\n",
    " ```\n",
    " x := random(domain)\n",
    " for k ranging from 0 to niter (exclusive):\n",
    "     T := T(k)\n",
    "     x_new := visit(x, T)\n",
    "     df := f(x_new) - f(x)\n",
    "     p := min(1, exp(-df/T))\n",
    "     if p >= random(0,1):\n",
    "         x := x_new\n",
    " output: x\n",
    "```"
   ]
  },
  {
   "cell_type": "markdown",
   "id": "f07294a8",
   "metadata": {},
   "source": [
    "## The Implementation"
   ]
  },
  {
   "cell_type": "markdown",
   "id": "982be4b1",
   "metadata": {},
   "source": [
    "The simulated annealing implementation in this package is done in a single `annealing` function, that minimizes a `f(x, **kwargs)` function with respect to a list `x`. Both continous and discrete case are implemented in the same function."
   ]
  },
  {
   "cell_type": "code",
   "execution_count": 1,
   "id": "095d65e2",
   "metadata": {
    "scrolled": true
   },
   "outputs": [],
   "source": [
    "from imautils.annealing import annealing"
   ]
  },
  {
   "cell_type": "code",
   "execution_count": 2,
   "id": "868b7369",
   "metadata": {
    "scrolled": true
   },
   "outputs": [],
   "source": [
    "# Further inports.\n",
    "import numpy as np\n",
    "import pandas as pd\n",
    "import matplotlib.pyplot as plt\n",
    "from matplotlib import cm"
   ]
  },
  {
   "cell_type": "markdown",
   "id": "7dddb3a7",
   "metadata": {},
   "source": [
    "## Using the Implementation: Continuous Case"
   ]
  },
  {
   "cell_type": "markdown",
   "id": "f91f447c",
   "metadata": {},
   "source": [
    "The implementation in the accompanying _annealing.py_ script allows for the optimization of both continuos and discrete functions.\n",
    "\n",
    "I both cases, the function must be of the form: ```f(xl, **kwargs)```, **in which ```xl``` is a list**.\n",
    "\n",
    "We start by a continuos example, minimizing the 1d function bellow in the $[0,10]$ domain."
   ]
  },
  {
   "cell_type": "code",
   "execution_count": 3,
   "id": "823dc429",
   "metadata": {
    "scrolled": true
   },
   "outputs": [
    {
     "data": {
      "image/png": "[encoded data removed]",
      "text/plain": [
       "<Figure size 360x216 with 1 Axes>"
      ]
     },
     "metadata": {
      "needs_background": "light"
     },
     "output_type": "display_data"
    }
   ],
   "source": [
    "def contf(xl):\n",
    "    x = xl[0]\n",
    "    return (2*np.sin(0.5*x - 3) + np.sin(x) + 0.5*np.sin(2*x - 3)\n",
    "           + 0.25*np.sin(4*x - 3) + 0.1*np.sin(8*x - 2) + 0.2*np.sin(8*x- 1))\n",
    "\n",
    "x = np.linspace(0, 10, 500)\n",
    "fig, ax = plt.subplots(figsize=(5,3))\n",
    "ax.plot(x, contf([x]), linewidth=2, color='black')\n",
    "ax.set_xlabel('x', fontsize=14)\n",
    "ax.set_ylabel('f(x)', fontsize=14);"
   ]
  },
  {
   "cell_type": "markdown",
   "id": "3e4b010c",
   "metadata": {},
   "source": [
    "The following arguments are used in the annealing function:\n",
    "\n",
    "* The ```domain``` is specified as a list of pairs (```[..., [min, max], ...]```) in which each pair at the i-th list position represents minimun and maxinum values in the i-th dimension of the list ```x```. In this case, x is 1 dimensional.\n",
    "* The ```domain_type``` is chosen between ```'continuos'``` and ```'discrete'```\n",
    "* ```niter``` is the number of iterations.\n",
    "* Temperature decays between ```init_temp``` and ```final_temp```.\n",
    "* ```decay_type``` specifies the temperature decaying profile, and might be ```'linear'``` or ```'exp'```.\n",
    "* ```filename``` is an optional output file with columns containing:\n",
    "    * iteration step (k) and temperature (T).\n",
    "    * current values for input vector components and cost function at each iteration (x, fun).\n",
    "    * proposed new values, even if they are not accepted (x_new, fun_new)\n",
    "    * acceptance probability (p) and random(0,1) number with which it is compared (rn).\n",
    "    * boolean defining if the new position was accepted (True) or not (False).\n",
    "    * Iteration time.\n",
    "* If ```f``` needs additional keyword arguments, an optional kwargs dictionary may be provided to the function."
   ]
  },
  {
   "cell_type": "code",
   "execution_count": 4,
   "id": "df5cb3b4",
   "metadata": {},
   "outputs": [
    {
     "name": "stdout",
     "output_type": "stream",
     "text": []
    }
   ],
   "source": [
    "domain = [[1,10]]\n",
    "domain_type = 'continuous'\n",
    "niter = 1000\n",
    "init_temp = 6\n",
    "final_temp = 1e-5\n",
    "decay_type = 'linear'\n",
    "filename = 'continuous.txt'\n",
    "\n",
    "result_cont = annealing(contf, domain=domain, domain_type=domain_type,\n",
    "                    niter=niter, init_temp=init_temp, final_temp=final_temp, decay_type=decay_type,\n",
    "                    filename='continuous.txt')\n",
    "\n",
    "# Besides saving annealing data to 'continuous.txt' and storing result in result_cont,\n",
    "# the command above also prints simplified annealing data."
   ]
  },
  {
   "cell_type": "markdown",
   "id": "8fad22bd",
   "metadata": {},
   "source": [
    "The annealing function returns a dictionary containing the input vector which minimizes the cost function (keyed by ```'x'```) and the function at such value (keyed by ```'fun'```)."
   ]
  },
  {
   "cell_type": "code",
   "execution_count": 5,
   "id": "6c87ab26",
   "metadata": {
    "scrolled": true
   },
   "outputs": [
    {
     "name": "stdout",
     "output_type": "stream",
     "text": [
      "{'x': [3.6865369217477686], 'fun': -2.9764475449933894}\n"
     ]
    }
   ],
   "source": [
    "print(result_cont)"
   ]
  },
  {
   "cell_type": "markdown",
   "id": "063013b2",
   "metadata": {},
   "source": [
    "The output file may be, for example, easily imported as a Pandas DataFrame object:"
   ]
  },
  {
   "cell_type": "code",
   "execution_count": 6,
   "id": "28a55ce2",
   "metadata": {
    "scrolled": false
   },
   "outputs": [
    {
     "data": {
      "text/html": [
       "<div>\n",
       "<style scoped>\n",
       "    .dataframe tbody tr th:only-of-type {\n",
       "        vertical-align: middle;\n",
       "    }\n",
       "\n",
       "    .dataframe tbody tr th {\n",
       "        vertical-align: top;\n",
       "    }\n",
       "\n",
       "    .dataframe thead th {\n",
       "        text-align: right;\n",
       "    }\n",
       "</style>\n",
       "<table border=\"1\" class=\"dataframe\">\n",
       "  <thead>\n",
       "    <tr style=\"text-align: right;\">\n",
       "      <th></th>\n",
       "      <th>k</th>\n",
       "      <th>temp</th>\n",
       "      <th>fun</th>\n",
       "      <th>x0</th>\n",
       "      <th>fun_new</th>\n",
       "      <th>x_new0</th>\n",
       "      <th>visit_scale</th>\n",
       "      <th>p</th>\n",
       "      <th>rn</th>\n",
       "      <th>accept</th>\n",
       "      <th>time</th>\n",
       "    </tr>\n",
       "  </thead>\n",
       "  <tbody>\n",
       "    <tr>\n",
       "      <th>0</th>\n",
       "      <td>0</td>\n",
       "      <td>6.000000</td>\n",
       "      <td>-1.556081</td>\n",
       "      <td>5.018752</td>\n",
       "      <td>-2.430872</td>\n",
       "      <td>3.186442</td>\n",
       "      <td>1.000000</td>\n",
       "      <td>0.775074</td>\n",
       "      <td>True</td>\n",
       "      <td>22/09/14-17:47:51</td>\n",
       "      <td>NaN</td>\n",
       "    </tr>\n",
       "    <tr>\n",
       "      <th>1</th>\n",
       "      <td>1</td>\n",
       "      <td>5.993994</td>\n",
       "      <td>-2.430872</td>\n",
       "      <td>3.186442</td>\n",
       "      <td>2.232584</td>\n",
       "      <td>9.263346</td>\n",
       "      <td>0.459314</td>\n",
       "      <td>0.520393</td>\n",
       "      <td>False</td>\n",
       "      <td>22/09/14-17:47:51</td>\n",
       "      <td>NaN</td>\n",
       "    </tr>\n",
       "    <tr>\n",
       "      <th>2</th>\n",
       "      <td>2</td>\n",
       "      <td>5.987988</td>\n",
       "      <td>-2.430872</td>\n",
       "      <td>3.186442</td>\n",
       "      <td>-1.513319</td>\n",
       "      <td>2.928142</td>\n",
       "      <td>0.857930</td>\n",
       "      <td>0.274487</td>\n",
       "      <td>True</td>\n",
       "      <td>22/09/14-17:47:51</td>\n",
       "      <td>NaN</td>\n",
       "    </tr>\n",
       "    <tr>\n",
       "      <th>3</th>\n",
       "      <td>3</td>\n",
       "      <td>5.981982</td>\n",
       "      <td>-1.513319</td>\n",
       "      <td>2.928142</td>\n",
       "      <td>2.345588</td>\n",
       "      <td>7.818883</td>\n",
       "      <td>0.524616</td>\n",
       "      <td>0.030858</td>\n",
       "      <td>True</td>\n",
       "      <td>22/09/14-17:47:51</td>\n",
       "      <td>NaN</td>\n",
       "    </tr>\n",
       "    <tr>\n",
       "      <th>4</th>\n",
       "      <td>4</td>\n",
       "      <td>5.975976</td>\n",
       "      <td>2.345588</td>\n",
       "      <td>7.818883</td>\n",
       "      <td>-2.600265</td>\n",
       "      <td>3.492054</td>\n",
       "      <td>1.000000</td>\n",
       "      <td>0.528166</td>\n",
       "      <td>True</td>\n",
       "      <td>22/09/14-17:47:51</td>\n",
       "      <td>NaN</td>\n",
       "    </tr>\n",
       "    <tr>\n",
       "      <th>...</th>\n",
       "      <td>...</td>\n",
       "      <td>...</td>\n",
       "      <td>...</td>\n",
       "      <td>...</td>\n",
       "      <td>...</td>\n",
       "      <td>...</td>\n",
       "      <td>...</td>\n",
       "      <td>...</td>\n",
       "      <td>...</td>\n",
       "      <td>...</td>\n",
       "      <td>...</td>\n",
       "    </tr>\n",
       "    <tr>\n",
       "      <th>995</th>\n",
       "      <td>995</td>\n",
       "      <td>0.024034</td>\n",
       "      <td>-2.976448</td>\n",
       "      <td>3.686537</td>\n",
       "      <td>-1.237299</td>\n",
       "      <td>5.321619</td>\n",
       "      <td>0.000000</td>\n",
       "      <td>0.418229</td>\n",
       "      <td>False</td>\n",
       "      <td>22/09/14-17:47:51</td>\n",
       "      <td>NaN</td>\n",
       "    </tr>\n",
       "    <tr>\n",
       "      <th>996</th>\n",
       "      <td>996</td>\n",
       "      <td>0.018028</td>\n",
       "      <td>-2.976448</td>\n",
       "      <td>3.686537</td>\n",
       "      <td>0.698567</td>\n",
       "      <td>6.866999</td>\n",
       "      <td>0.000000</td>\n",
       "      <td>0.410941</td>\n",
       "      <td>False</td>\n",
       "      <td>22/09/14-17:47:51</td>\n",
       "      <td>NaN</td>\n",
       "    </tr>\n",
       "    <tr>\n",
       "      <th>997</th>\n",
       "      <td>997</td>\n",
       "      <td>0.012022</td>\n",
       "      <td>-2.976448</td>\n",
       "      <td>3.686537</td>\n",
       "      <td>1.236073</td>\n",
       "      <td>9.753535</td>\n",
       "      <td>0.000000</td>\n",
       "      <td>0.595964</td>\n",
       "      <td>False</td>\n",
       "      <td>22/09/14-17:47:51</td>\n",
       "      <td>NaN</td>\n",
       "    </tr>\n",
       "    <tr>\n",
       "      <th>998</th>\n",
       "      <td>998</td>\n",
       "      <td>0.006016</td>\n",
       "      <td>-2.976448</td>\n",
       "      <td>3.686537</td>\n",
       "      <td>-0.650476</td>\n",
       "      <td>1.741066</td>\n",
       "      <td>0.000000</td>\n",
       "      <td>0.572784</td>\n",
       "      <td>False</td>\n",
       "      <td>22/09/14-17:47:51</td>\n",
       "      <td>NaN</td>\n",
       "    </tr>\n",
       "    <tr>\n",
       "      <th>999</th>\n",
       "      <td>999</td>\n",
       "      <td>0.000010</td>\n",
       "      <td>-2.976448</td>\n",
       "      <td>3.686537</td>\n",
       "      <td>-0.475712</td>\n",
       "      <td>1.975249</td>\n",
       "      <td>0.000000</td>\n",
       "      <td>0.556513</td>\n",
       "      <td>False</td>\n",
       "      <td>22/09/14-17:47:51</td>\n",
       "      <td>NaN</td>\n",
       "    </tr>\n",
       "  </tbody>\n",
       "</table>\n",
       "<p>1000 rows × 11 columns</p>\n",
       "</div>"
      ],
      "text/plain": [
       "       k      temp       fun        x0   fun_new    x_new0  visit_scale  \\\n",
       "0      0  6.000000 -1.556081  5.018752 -2.430872  3.186442     1.000000   \n",
       "1      1  5.993994 -2.430872  3.186442  2.232584  9.263346     0.459314   \n",
       "2      2  5.987988 -2.430872  3.186442 -1.513319  2.928142     0.857930   \n",
       "3      3  5.981982 -1.513319  2.928142  2.345588  7.818883     0.524616   \n",
       "4      4  5.975976  2.345588  7.818883 -2.600265  3.492054     1.000000   \n",
       "..   ...       ...       ...       ...       ...       ...          ...   \n",
       "995  995  0.024034 -2.976448  3.686537 -1.237299  5.321619     0.000000   \n",
       "996  996  0.018028 -2.976448  3.686537  0.698567  6.866999     0.000000   \n",
       "997  997  0.012022 -2.976448  3.686537  1.236073  9.753535     0.000000   \n",
       "998  998  0.006016 -2.976448  3.686537 -0.650476  1.741066     0.000000   \n",
       "999  999  0.000010 -2.976448  3.686537 -0.475712  1.975249     0.000000   \n",
       "\n",
       "            p     rn             accept  time  \n",
       "0    0.775074   True  22/09/14-17:47:51   NaN  \n",
       "1    0.520393  False  22/09/14-17:47:51   NaN  \n",
       "2    0.274487   True  22/09/14-17:47:51   NaN  \n",
       "3    0.030858   True  22/09/14-17:47:51   NaN  \n",
       "4    0.528166   True  22/09/14-17:47:51   NaN  \n",
       "..        ...    ...                ...   ...  \n",
       "995  0.418229  False  22/09/14-17:47:51   NaN  \n",
       "996  0.410941  False  22/09/14-17:47:51   NaN  \n",
       "997  0.595964  False  22/09/14-17:47:51   NaN  \n",
       "998  0.572784  False  22/09/14-17:47:51   NaN  \n",
       "999  0.556513  False  22/09/14-17:47:51   NaN  \n",
       "\n",
       "[1000 rows x 11 columns]"
      ]
     },
     "execution_count": 6,
     "metadata": {},
     "output_type": "execute_result"
    }
   ],
   "source": [
    "iterations_cont = pd.read_csv('continuous.txt', sep=' ')\n",
    "iterations_cont"
   ]
  },
  {
   "cell_type": "markdown",
   "id": "9f3b8c2c",
   "metadata": {},
   "source": [
    "The plot bellow displays all accepted ```x``` values in all iterations, colored by temperature. A vertical line is added identifying the resulting ```'x'``` position."
   ]
  },
  {
   "cell_type": "code",
   "execution_count": 7,
   "id": "c1d8dcec",
   "metadata": {
    "scrolled": true
   },
   "outputs": [
    {
     "data": {
      "image/png": "[encoded data removed]",
      "text/plain": [
       "<Figure size 360x216 with 2 Axes>"
      ]
     },
     "metadata": {
      "needs_background": "light"
     },
     "output_type": "display_data"
    }
   ],
   "source": [
    "x = np.linspace(0, 10, 500)\n",
    "\n",
    "fig, ax = plt.subplots(figsize=(5,3))\n",
    "ax.plot(x, contf([x]), linewidth=10, color=[0.85, 0.85, 0.85], zorder=0)\n",
    "ax.set_xlabel('x', fontsize=14)\n",
    "ax.set_ylabel('f(x)', fontsize=14)\n",
    "\n",
    "sm = cm.ScalarMappable(cmap='plasma')\n",
    "sm.set_clim(init_temp, final_temp)\n",
    "cmap = sm.get_cmap()\n",
    "colors = [cmap(temp/init_temp) for temp in iterations_cont['temp']]\n",
    "\n",
    "for x, fun, color in zip(iterations_cont['x0'], iterations_cont['fun'], colors):\n",
    "    ax.scatter(x, fun, c=[color], zorder=1)\n",
    "\n",
    "result_cont_x = result_cont['x'][0]\n",
    "ax.axvline(x=result_cont_x, c=colors[-1], zorder=2)\n",
    "ax.text(result_cont_x,4,\"result_cont['x']\", c=colors[-1], fontsize=12)\n",
    "\n",
    "fig.colorbar(sm, label='Temperature');"
   ]
  },
  {
   "cell_type": "markdown",
   "id": "ce91b0bd",
   "metadata": {},
   "source": [
    "## Using the Implementation: Discrete Case"
   ]
  },
  {
   "cell_type": "markdown",
   "id": "54c0df4b",
   "metadata": {},
   "source": [
    "For a discrete example, we use a function that receives a vector ```'xl'```, for which each component is either ```'a'```, ```'b'```, or ```'c'```, and returns a number by assigning each character option to a number. The minimum value is always returned when all the components are ```'c'```."
   ]
  },
  {
   "cell_type": "code",
   "execution_count": 8,
   "id": "de71aa9d",
   "metadata": {
    "scrolled": true
   },
   "outputs": [],
   "source": [
    "def discf(xl):\n",
    "    result = 0\n",
    "    for element in xl:\n",
    "        if element == 'a':\n",
    "            result += 50\n",
    "        elif element == 'b':\n",
    "            result += 30\n",
    "        elif element == 'c':\n",
    "            result += 10\n",
    "    return result"
   ]
  },
  {
   "cell_type": "markdown",
   "id": "b197eade",
   "metadata": {},
   "source": [
    "In the discrete case, ```domain``` is specified as a list of lists of the form ```[..., [op1, op2, ...], ...]```, in which the i-th list position contains a list of the discrete options for the i-th component in ```x```. In our case, all components have the same options (```'a'```, ```'b'``` or ```'c'```). We choose an ```x``` vector with 16 dimensions."
   ]
  },
  {
   "cell_type": "code",
   "execution_count": 9,
   "id": "897ec741",
   "metadata": {},
   "outputs": [
    {
     "name": "stdout",
     "output_type": "stream",
     "text": []
    }
   ],
   "source": [
    "domain = [['a','b','c']]*8\n",
    "domain_type = 'discrete'\n",
    "niter = 1000\n",
    "init_temp = 400\n",
    "final_temp = 1e-5\n",
    "decay_type = 'exp'\n",
    "filename = 'discrete.txt'\n",
    "\n",
    "result_disc = annealing(discf, domain=domain, domain_type=domain_type,\n",
    "                    niter=niter, init_temp=init_temp, final_temp=final_temp, decay_type=decay_type,\n",
    "                    filename='discrete.txt')\n",
    "\n",
    "# Besides saving annealing data to 'discrete.txt' and storing result in result_disc,\n",
    "# the command above also prints simplified annealing data."
   ]
  },
  {
   "cell_type": "markdown",
   "id": "ca184a63",
   "metadata": {},
   "source": [
    "We indeed get the minium as the vector with all ```'c'```components:"
   ]
  },
  {
   "cell_type": "code",
   "execution_count": 10,
   "id": "b5f34c48",
   "metadata": {
    "scrolled": true
   },
   "outputs": [
    {
     "data": {
      "text/plain": [
       "{'x': array(['c', 'c', 'c', 'c', 'c', 'c', 'c', 'c'], dtype='<U1'), 'fun': 80}"
      ]
     },
     "execution_count": 10,
     "metadata": {},
     "output_type": "execute_result"
    }
   ],
   "source": [
    "result_disc"
   ]
  },
  {
   "cell_type": "markdown",
   "id": "cef152b5",
   "metadata": {},
   "source": [
    "Again, iteration results might be visualized by importing the results from the output file."
   ]
  },
  {
   "cell_type": "code",
   "execution_count": 11,
   "id": "17d80208",
   "metadata": {
    "scrolled": false
   },
   "outputs": [
    {
     "data": {
      "text/html": [
       "<div>\n",
       "<style scoped>\n",
       "    .dataframe tbody tr th:only-of-type {\n",
       "        vertical-align: middle;\n",
       "    }\n",
       "\n",
       "    .dataframe tbody tr th {\n",
       "        vertical-align: top;\n",
       "    }\n",
       "\n",
       "    .dataframe thead th {\n",
       "        text-align: right;\n",
       "    }\n",
       "</style>\n",
       "<table border=\"1\" class=\"dataframe\">\n",
       "  <thead>\n",
       "    <tr style=\"text-align: right;\">\n",
       "      <th></th>\n",
       "      <th>x0</th>\n",
       "      <th>x1</th>\n",
       "      <th>x2</th>\n",
       "      <th>x3</th>\n",
       "      <th>x4</th>\n",
       "      <th>x5</th>\n",
       "      <th>x6</th>\n",
       "      <th>x7</th>\n",
       "      <th>fun</th>\n",
       "    </tr>\n",
       "  </thead>\n",
       "  <tbody>\n",
       "    <tr>\n",
       "      <th>0</th>\n",
       "      <td>a</td>\n",
       "      <td>c</td>\n",
       "      <td>c</td>\n",
       "      <td>b</td>\n",
       "      <td>a</td>\n",
       "      <td>a</td>\n",
       "      <td>c</td>\n",
       "      <td>c</td>\n",
       "      <td>220.0</td>\n",
       "    </tr>\n",
       "    <tr>\n",
       "      <th>1</th>\n",
       "      <td>b</td>\n",
       "      <td>b</td>\n",
       "      <td>a</td>\n",
       "      <td>c</td>\n",
       "      <td>b</td>\n",
       "      <td>c</td>\n",
       "      <td>a</td>\n",
       "      <td>b</td>\n",
       "      <td>240.0</td>\n",
       "    </tr>\n",
       "    <tr>\n",
       "      <th>2</th>\n",
       "      <td>a</td>\n",
       "      <td>b</td>\n",
       "      <td>c</td>\n",
       "      <td>a</td>\n",
       "      <td>b</td>\n",
       "      <td>c</td>\n",
       "      <td>a</td>\n",
       "      <td>b</td>\n",
       "      <td>260.0</td>\n",
       "    </tr>\n",
       "    <tr>\n",
       "      <th>3</th>\n",
       "      <td>a</td>\n",
       "      <td>b</td>\n",
       "      <td>c</td>\n",
       "      <td>b</td>\n",
       "      <td>c</td>\n",
       "      <td>a</td>\n",
       "      <td>b</td>\n",
       "      <td>b</td>\n",
       "      <td>240.0</td>\n",
       "    </tr>\n",
       "    <tr>\n",
       "      <th>4</th>\n",
       "      <td>b</td>\n",
       "      <td>a</td>\n",
       "      <td>a</td>\n",
       "      <td>c</td>\n",
       "      <td>c</td>\n",
       "      <td>b</td>\n",
       "      <td>b</td>\n",
       "      <td>c</td>\n",
       "      <td>220.0</td>\n",
       "    </tr>\n",
       "    <tr>\n",
       "      <th>...</th>\n",
       "      <td>...</td>\n",
       "      <td>...</td>\n",
       "      <td>...</td>\n",
       "      <td>...</td>\n",
       "      <td>...</td>\n",
       "      <td>...</td>\n",
       "      <td>...</td>\n",
       "      <td>...</td>\n",
       "      <td>...</td>\n",
       "    </tr>\n",
       "    <tr>\n",
       "      <th>995</th>\n",
       "      <td>c</td>\n",
       "      <td>c</td>\n",
       "      <td>c</td>\n",
       "      <td>c</td>\n",
       "      <td>c</td>\n",
       "      <td>c</td>\n",
       "      <td>c</td>\n",
       "      <td>c</td>\n",
       "      <td>80.0</td>\n",
       "    </tr>\n",
       "    <tr>\n",
       "      <th>996</th>\n",
       "      <td>c</td>\n",
       "      <td>c</td>\n",
       "      <td>c</td>\n",
       "      <td>c</td>\n",
       "      <td>c</td>\n",
       "      <td>c</td>\n",
       "      <td>c</td>\n",
       "      <td>c</td>\n",
       "      <td>80.0</td>\n",
       "    </tr>\n",
       "    <tr>\n",
       "      <th>997</th>\n",
       "      <td>c</td>\n",
       "      <td>c</td>\n",
       "      <td>c</td>\n",
       "      <td>c</td>\n",
       "      <td>c</td>\n",
       "      <td>c</td>\n",
       "      <td>c</td>\n",
       "      <td>c</td>\n",
       "      <td>80.0</td>\n",
       "    </tr>\n",
       "    <tr>\n",
       "      <th>998</th>\n",
       "      <td>c</td>\n",
       "      <td>c</td>\n",
       "      <td>c</td>\n",
       "      <td>c</td>\n",
       "      <td>c</td>\n",
       "      <td>c</td>\n",
       "      <td>c</td>\n",
       "      <td>c</td>\n",
       "      <td>80.0</td>\n",
       "    </tr>\n",
       "    <tr>\n",
       "      <th>999</th>\n",
       "      <td>c</td>\n",
       "      <td>c</td>\n",
       "      <td>c</td>\n",
       "      <td>c</td>\n",
       "      <td>c</td>\n",
       "      <td>c</td>\n",
       "      <td>c</td>\n",
       "      <td>c</td>\n",
       "      <td>80.0</td>\n",
       "    </tr>\n",
       "  </tbody>\n",
       "</table>\n",
       "<p>1000 rows × 9 columns</p>\n",
       "</div>"
      ],
      "text/plain": [
       "    x0 x1 x2 x3 x4 x5 x6 x7    fun\n",
       "0    a  c  c  b  a  a  c  c  220.0\n",
       "1    b  b  a  c  b  c  a  b  240.0\n",
       "2    a  b  c  a  b  c  a  b  260.0\n",
       "3    a  b  c  b  c  a  b  b  240.0\n",
       "4    b  a  a  c  c  b  b  c  220.0\n",
       "..  .. .. .. .. .. .. .. ..    ...\n",
       "995  c  c  c  c  c  c  c  c   80.0\n",
       "996  c  c  c  c  c  c  c  c   80.0\n",
       "997  c  c  c  c  c  c  c  c   80.0\n",
       "998  c  c  c  c  c  c  c  c   80.0\n",
       "999  c  c  c  c  c  c  c  c   80.0\n",
       "\n",
       "[1000 rows x 9 columns]"
      ]
     },
     "execution_count": 11,
     "metadata": {},
     "output_type": "execute_result"
    }
   ],
   "source": [
    "iterations_disc = pd.read_csv('discrete.txt', sep=' ')\n",
    "iterations_disc[[f'x{i}' for i in range(8)] + ['fun']]"
   ]
  }
 ],
 "metadata": {
  "kernelspec": {
   "display_name": "Python 3 (ipykernel)",
   "language": "python",
   "name": "python3"
  },
  "language_info": {
   "codemirror_mode": {
    "name": "ipython",
    "version": 3
   },
   "file_extension": ".py",
   "mimetype": "text/x-python",
   "name": "python",
   "nbconvert_exporter": "python",
   "pygments_lexer": "ipython3",
   "version": "3.8.10"
  },
  "vscode": {
   "interpreter": {
    "hash": "5d1900fc8eceb59c77a204be9c455e8b7eb2bd224c61d4f4ce456fb67f6d05a7"
   }
  }
 },
 "nbformat": 4,
 "nbformat_minor": 5
}
